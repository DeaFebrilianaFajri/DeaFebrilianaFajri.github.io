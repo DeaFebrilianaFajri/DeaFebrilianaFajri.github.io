{
  "nbformat": 4,
  "nbformat_minor": 0,
  "metadata": {
    "colab": {
      "name": "1305619007_Dea Febriliana Fajri.ipynb",
      "provenance": [],
      "collapsed_sections": [],
      "include_colab_link": true
    },
    "kernelspec": {
      "name": "python3",
      "display_name": "Python 3"
    },
    "language_info": {
      "name": "python"
    }
  },
  "cells": [
    {
      "cell_type": "markdown",
      "metadata": {
        "id": "view-in-github",
        "colab_type": "text"
      },
      "source": [
        "<a href=\"https://colab.research.google.com/github/DeaFebrilianaFajri/DeaFebrilianaFajri.github.io/blob/main/1305619007_Dea_Febriliana_Fajri.ipynb\" target=\"_parent\"><img src=\"https://colab.research.google.com/assets/colab-badge.svg\" alt=\"Open In Colab\"/></a>"
      ]
    },
    {
      "cell_type": "markdown",
      "source": [
        "##Topic 3 - Python Structure & Data Type Assignment\n"
      ],
      "metadata": {
        "id": "f6LjKU50-tD8"
      }
    },
    {
      "cell_type": "markdown",
      "source": [
        ""
      ],
      "metadata": {
        "id": "NlgmP9A3EUa4"
      }
    },
    {
      "cell_type": "markdown",
      "source": [
        "# Data Type Declaration"
      ],
      "metadata": {
        "id": "MPuR878HZEbx"
      }
    },
    {
      "cell_type": "markdown",
      "source": [
        "1. > Create an empty variable (Points : 5)"
      ],
      "metadata": {
        "id": "GyS5I54D-3K9"
      }
    },
    {
      "cell_type": "code",
      "source": [
        "variable=\"\"\n",
        "print(variable)"
      ],
      "metadata": {
        "id": "jehesBY-_aKL",
        "colab": {
          "base_uri": "https://localhost:8080/"
        },
        "outputId": "a195037f-3130-4027-8cd6-8a9a50243329"
      },
      "execution_count": 1,
      "outputs": [
        {
          "output_type": "stream",
          "name": "stdout",
          "text": [
            "\n"
          ]
        }
      ]
    },
    {
      "cell_type": "markdown",
      "source": [
        "2. > Create a variable containing your name (Points : 5)"
      ],
      "metadata": {
        "id": "6zCz3qZ8_bu2"
      }
    },
    {
      "cell_type": "code",
      "source": [
        "nama = \"Dea Febriliana Fajri\"\n",
        "print(nama)"
      ],
      "metadata": {
        "id": "1wT8jnI6_f-U",
        "colab": {
          "base_uri": "https://localhost:8080/"
        },
        "outputId": "ef9a5ab5-53ce-4b47-c3aa-61f73c578d57"
      },
      "execution_count": 3,
      "outputs": [
        {
          "output_type": "stream",
          "name": "stdout",
          "text": [
            "Dea Febriliana Fajri\n"
          ]
        }
      ]
    },
    {
      "cell_type": "markdown",
      "source": [
        "3. > Create a list of 5 items you can find in the classroom (Points : 5)"
      ],
      "metadata": {
        "id": "ApatE8m__2Ud"
      }
    },
    {
      "cell_type": "code",
      "source": [
        "classroom = ['papan tulis','meja','kursi','buku','spidol']\n",
        "print(classroom)"
      ],
      "metadata": {
        "id": "-Q0Ynqx1_6hF",
        "colab": {
          "base_uri": "https://localhost:8080/"
        },
        "outputId": "0aa13ebc-c308-48c3-ca8f-0f5365e9007c"
      },
      "execution_count": 4,
      "outputs": [
        {
          "output_type": "stream",
          "name": "stdout",
          "text": [
            "['papan tulis', 'meja', 'kursi', 'buku', 'spidol']\n"
          ]
        }
      ]
    },
    {
      "cell_type": "markdown",
      "source": [
        "4. > Create a dictionary containing 2 keys and value (Points : 5)"
      ],
      "metadata": {
        "id": "6FwMmy_9AS5N"
      }
    },
    {
      "cell_type": "code",
      "source": [
        "animal={\n",
        "    \"name\":\"cat\",\n",
        "    \"color\":\"white\"\n",
        "}\n",
        "print(animal)"
      ],
      "metadata": {
        "id": "xLc2AlhtASOm",
        "colab": {
          "base_uri": "https://localhost:8080/"
        },
        "outputId": "11bcfe9f-48c7-4b10-e9a1-5567b29ede69"
      },
      "execution_count": 6,
      "outputs": [
        {
          "output_type": "stream",
          "name": "stdout",
          "text": [
            "{'name': 'cat', 'color': 'white'}\n"
          ]
        }
      ]
    },
    {
      "cell_type": "markdown",
      "source": [
        "# Basic Data Operation"
      ],
      "metadata": {
        "id": "6AqPfAS7a1Oi"
      }
    },
    {
      "cell_type": "markdown",
      "source": [
        "You sold 20 pieces of electronics at the price of 12000. The customer gets a total discount of 10%.\n",
        "\n",
        "Below are those variables:\n",
        "\n",
        "1.   price=12000\n",
        "2.   quantity_sold=20\n",
        "3.   discount=10%\n",
        "\n",
        "\n",
        "Using Python code, write the code the find the total money that the customer to pay. (Points : 15)"
      ],
      "metadata": {
        "id": "-ZZF1cXlbqkJ"
      }
    },
    {
      "cell_type": "code",
      "source": [
        "price = 12000\n",
        "quantity_sold = 20\n",
        "discount = 10/100\n",
        "\n",
        "Total1 = price*quantity_sold\n",
        "Total2 = price*quantity_sold*discount\n",
        "Total = Total1 - Total2\n",
        "\n",
        "print(Total)"
      ],
      "metadata": {
        "id": "90T0A2HvbcCK",
        "colab": {
          "base_uri": "https://localhost:8080/"
        },
        "outputId": "7ae3c872-4db4-4cb6-a761-e657be7ef738"
      },
      "execution_count": 7,
      "outputs": [
        {
          "output_type": "stream",
          "name": "stdout",
          "text": [
            "216000.0\n"
          ]
        }
      ]
    },
    {
      "cell_type": "markdown",
      "source": [
        "# List Data Operation"
      ],
      "metadata": {
        "id": "G-HHsg4la6mJ"
      }
    },
    {
      "cell_type": "markdown",
      "source": [
        "5. > Follow the instructions in the code blocks\n",
        "\n",
        "\n",
        "\n"
      ],
      "metadata": {
        "id": "NdoSjVZ4Zbqg"
      }
    },
    {
      "cell_type": "code",
      "source": [
        "# Create list of countries in the world (total 7 countries) (Points : 5)\n",
        "\n",
        "countries = ['Indonesia','Singapore','United States of America','India','Malaysia','Switzerland','Dubai']\n",
        "print(countries)"
      ],
      "metadata": {
        "id": "xsFxlZGLaQ7y",
        "colab": {
          "base_uri": "https://localhost:8080/"
        },
        "outputId": "da6dd38e-fd1d-427c-e953-7062ce5f614b"
      },
      "execution_count": 8,
      "outputs": [
        {
          "output_type": "stream",
          "name": "stdout",
          "text": [
            "['Indonesia', 'Singapore', 'United States of America', 'India', 'Malaysia', 'Switzerland', 'Dubai']\n"
          ]
        }
      ]
    },
    {
      "cell_type": "code",
      "source": [
        "# Get 4 countries from the first index of the list (Points : 5)\n",
        "\n",
        "countries[:4]"
      ],
      "metadata": {
        "id": "6Se125DabJ6R",
        "colab": {
          "base_uri": "https://localhost:8080/"
        },
        "outputId": "7d05dc17-cd63-4766-e3a9-5038c7f9ef5b"
      },
      "execution_count": 9,
      "outputs": [
        {
          "output_type": "execute_result",
          "data": {
            "text/plain": [
              "['Indonesia', 'Singapore', 'United States of America', 'India']"
            ]
          },
          "metadata": {},
          "execution_count": 9
        }
      ]
    },
    {
      "cell_type": "code",
      "source": [
        "# Append new country to the list (Points : 5)\n",
        "\n",
        "countries.append('South Korea')\n",
        "countries"
      ],
      "metadata": {
        "id": "FSU5QfExbKAh",
        "colab": {
          "base_uri": "https://localhost:8080/"
        },
        "outputId": "ef7d796f-53e6-474e-d320-7472aae7d03a"
      },
      "execution_count": 10,
      "outputs": [
        {
          "output_type": "execute_result",
          "data": {
            "text/plain": [
              "['Indonesia',\n",
              " 'Singapore',\n",
              " 'United States of America',\n",
              " 'India',\n",
              " 'Malaysia',\n",
              " 'Switzerland',\n",
              " 'Dubai',\n",
              " 'South Korea']"
            ]
          },
          "metadata": {},
          "execution_count": 10
        }
      ]
    },
    {
      "cell_type": "code",
      "source": [
        "# Drop one country from the list (Points : 5)\n",
        "\n",
        "countries.remove('Malaysia')\n",
        "countries"
      ],
      "metadata": {
        "id": "DlvXbKlnbKGR",
        "colab": {
          "base_uri": "https://localhost:8080/"
        },
        "outputId": "4b640ab0-bcca-4f72-94da-8f21f5cda5e0"
      },
      "execution_count": 11,
      "outputs": [
        {
          "output_type": "execute_result",
          "data": {
            "text/plain": [
              "['Indonesia',\n",
              " 'Singapore',\n",
              " 'United States of America',\n",
              " 'India',\n",
              " 'Switzerland',\n",
              " 'Dubai',\n",
              " 'South Korea']"
            ]
          },
          "metadata": {},
          "execution_count": 11
        }
      ]
    },
    {
      "cell_type": "code",
      "source": [
        "# Get country in the last index (Points : 5)\n",
        "\n",
        "countries[6]"
      ],
      "metadata": {
        "id": "F1NJ6JCQbKJ7",
        "colab": {
          "base_uri": "https://localhost:8080/",
          "height": 35
        },
        "outputId": "cdfc014e-44c4-4a59-da20-0672e7d6ce4d"
      },
      "execution_count": 12,
      "outputs": [
        {
          "output_type": "execute_result",
          "data": {
            "text/plain": [
              "'South Korea'"
            ],
            "application/vnd.google.colaboratory.intrinsic+json": {
              "type": "string"
            }
          },
          "metadata": {},
          "execution_count": 12
        }
      ]
    },
    {
      "cell_type": "markdown",
      "source": [
        "# Dictionary Data Operation"
      ],
      "metadata": {
        "id": "Kfkq-SmIdJR6"
      }
    },
    {
      "cell_type": "markdown",
      "source": [
        "6. >  Follow the instructions below\n",
        "\n",
        "\n",
        "\n"
      ],
      "metadata": {
        "id": "WyJ8CJzdeMiS"
      }
    },
    {
      "cell_type": "code",
      "source": [
        "# Given the dictionary below\n",
        "\n",
        "customer={\n",
        "    \"name\":['Dio','Eka','Wayu','Riki'],\n",
        "    \"age\":[20,19,24,39],\n",
        "    \"gender\":[1,0,0,1],\n",
        "    \"membership\":['Platinum','Gold','Silver','Silver']\n",
        "}"
      ],
      "metadata": {
        "id": "fVHYIKLwdMfq"
      },
      "execution_count": 15,
      "outputs": []
    },
    {
      "cell_type": "code",
      "source": [
        "# Print all keys in customer (Points : 5)\n",
        "\n",
        "dict.keys(customer)"
      ],
      "metadata": {
        "id": "LpRVtz4_eJK5",
        "colab": {
          "base_uri": "https://localhost:8080/"
        },
        "outputId": "620fef9c-bef8-4f51-d35e-4c7085d87b68"
      },
      "execution_count": 17,
      "outputs": [
        {
          "output_type": "execute_result",
          "data": {
            "text/plain": [
              "dict_keys(['name', 'age', 'gender', 'membership'])"
            ]
          },
          "metadata": {},
          "execution_count": 17
        }
      ]
    },
    {
      "cell_type": "code",
      "source": [
        "# Print all customer names (Points : 5)\n",
        "\n",
        "customer[\"name\"]"
      ],
      "metadata": {
        "id": "QiEMM94FeYrz",
        "colab": {
          "base_uri": "https://localhost:8080/"
        },
        "outputId": "e279ac79-f4c4-457f-bd9c-546c28f59eb9"
      },
      "execution_count": 18,
      "outputs": [
        {
          "output_type": "execute_result",
          "data": {
            "text/plain": [
              "['Dio', 'Eka', 'Wayu', 'Riki']"
            ]
          },
          "metadata": {},
          "execution_count": 18
        }
      ]
    },
    {
      "cell_type": "code",
      "source": [
        "# Print the first customer name (Points : 5)\n",
        "\n",
        "customer[\"name\"][0]"
      ],
      "metadata": {
        "id": "P2SeErUGgQ-D",
        "colab": {
          "base_uri": "https://localhost:8080/",
          "height": 35
        },
        "outputId": "b567ef1e-8d64-4196-ffad-d7197668691c"
      },
      "execution_count": 21,
      "outputs": [
        {
          "output_type": "execute_result",
          "data": {
            "text/plain": [
              "'Dio'"
            ],
            "application/vnd.google.colaboratory.intrinsic+json": {
              "type": "string"
            }
          },
          "metadata": {},
          "execution_count": 21
        }
      ]
    },
    {
      "cell_type": "code",
      "source": [
        "# Drop \"age\" key from the dictionary (Points : 5)\n",
        "\n",
        "del customer[\"age\"]\n",
        "customer"
      ],
      "metadata": {
        "id": "c3PlmHxueiPy",
        "colab": {
          "base_uri": "https://localhost:8080/"
        },
        "outputId": "e26c5c63-8049-4b1f-c929-cae7d3053d1d"
      },
      "execution_count": 23,
      "outputs": [
        {
          "output_type": "execute_result",
          "data": {
            "text/plain": [
              "{'gender': [1, 0, 0, 1],\n",
              " 'membership': ['Platinum', 'Gold', 'Silver', 'Silver'],\n",
              " 'name': ['Dio', 'Eka', 'Wayu', 'Riki']}"
            ]
          },
          "metadata": {},
          "execution_count": 23
        }
      ]
    },
    {
      "cell_type": "code",
      "source": [
        "# Replace customer gender list value (Points : 20)\n",
        "# gender 1 => Male\n",
        "# gender 0 => Female \n",
        "\n",
        "\n",
        "customer[\"gender\"]=['Male','Female','Female','Male']\n",
        "customer"
      ],
      "metadata": {
        "id": "FgXDh9mIea9x",
        "colab": {
          "base_uri": "https://localhost:8080/"
        },
        "outputId": "a0241dee-1712-46e7-af60-42abe488a10a"
      },
      "execution_count": 24,
      "outputs": [
        {
          "output_type": "execute_result",
          "data": {
            "text/plain": [
              "{'gender': ['Male', 'Female', 'Female', 'Male'],\n",
              " 'membership': ['Platinum', 'Gold', 'Silver', 'Silver'],\n",
              " 'name': ['Dio', 'Eka', 'Wayu', 'Riki']}"
            ]
          },
          "metadata": {},
          "execution_count": 24
        }
      ]
    }
  ]
}